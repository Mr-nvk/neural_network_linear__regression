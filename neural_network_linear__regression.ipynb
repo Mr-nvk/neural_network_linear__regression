{
  "nbformat": 4,
  "nbformat_minor": 0,
  "metadata": {
    "colab": {
      "name": "neural network_linear _regression.ipynb",
      "version": "0.3.2",
      "provenance": [],
      "include_colab_link": true
    },
    "kernelspec": {
      "name": "python3",
      "display_name": "Python 3"
    }
  },
  "cells": [
    {
      "cell_type": "markdown",
      "metadata": {
        "id": "view-in-github",
        "colab_type": "text"
      },
      "source": [
        "<a href=\"https://colab.research.google.com/github/Mr-nvk/neural_network_linear__regression/blob/master/neural_network_linear__regression.ipynb\" target=\"_parent\"><img src=\"https://colab.research.google.com/assets/colab-badge.svg\" alt=\"Open In Colab\"/></a>"
      ]
    },
    {
      "metadata": {
        "id": "qYm3C0rmYKKY",
        "colab_type": "code",
        "colab": {}
      },
      "cell_type": "code",
      "source": [
        "import tensorflow as tf\n",
        "import matplotlib.pyplot as plt\n",
        "import numpy as np\n",
        "import pandas as pd"
      ],
      "execution_count": 0,
      "outputs": []
    },
    {
      "metadata": {
        "id": "_lHmeCM4YbdP",
        "colab_type": "code",
        "outputId": "89974a8e-5c9d-44af-b0f1-c6516a259d3a",
        "colab": {
          "base_uri": "https://localhost:8080/",
          "height": 34
        }
      },
      "cell_type": "code",
      "source": [
        "tf.__version__"
      ],
      "execution_count": 0,
      "outputs": [
        {
          "output_type": "execute_result",
          "data": {
            "text/plain": [
              "'1.13.1'"
            ]
          },
          "metadata": {
            "tags": []
          },
          "execution_count": 2
        }
      ]
    },
    {
      "metadata": {
        "id": "2zZTJff7YgTZ",
        "colab_type": "code",
        "colab": {}
      },
      "cell_type": "code",
      "source": [
        "# Code to read csv file into Colaboratory:\n",
        "\n",
        "!pip install -U -q PyDrive\n",
        "from pydrive.auth import GoogleAuth\n",
        "from pydrive.drive import GoogleDrive\n",
        "from google.colab import auth\n",
        "from oauth2client.client import GoogleCredentials\n",
        "\n",
        "# Authenticate and create the PyDrive client.\n",
        "auth.authenticate_user()\n",
        "gauth = GoogleAuth()\n",
        "gauth.credentials = GoogleCredentials.get_application_default()\n",
        "drive = GoogleDrive(gauth)"
      ],
      "execution_count": 0,
      "outputs": []
    },
    {
      "metadata": {
        "id": "_vHLGKdxYwM5",
        "colab_type": "code",
        "colab": {}
      },
      "cell_type": "code",
      "source": [
        "trainlink = \"https://drive.google.com/open?id=1U4Yrb5z2ciLXr1YE2jGkMnV1losEYktG\"\n",
        "testlink = \"https://drive.google.com/open?id=11axtXwQjC3ig6TPiq101eWv76bw9qm-i\""
      ],
      "execution_count": 0,
      "outputs": []
    },
    {
      "metadata": {
        "id": "lKm34i9EZiJa",
        "colab_type": "code",
        "colab": {}
      },
      "cell_type": "code",
      "source": [
        "#Train data\n",
        "fluff, id = trainlink.split('=')\n",
        "downloaded = drive.CreateFile({'id':id}) \n",
        "downloaded.GetContentFile('fashion-mnist_train.csv')  \n",
        "traindata = pd.read_csv('fashion-mnist_train.csv')\n"
      ],
      "execution_count": 0,
      "outputs": []
    },
    {
      "metadata": {
        "id": "cf7QLX58Zj83",
        "colab_type": "code",
        "colab": {}
      },
      "cell_type": "code",
      "source": [
        "#Test data\n",
        "fluff, id = testlink.split('=')\n",
        "downloaded = drive.CreateFile({'id':id}) \n",
        "downloaded.GetContentFile('fashion-mnist_test.csv')  \n",
        "testdata = pd.read_csv('fashion-mnist_test.csv')\n",
        "\n"
      ],
      "execution_count": 0,
      "outputs": []
    },
    {
      "metadata": {
        "id": "phrLfofxZm7R",
        "colab_type": "code",
        "colab": {}
      },
      "cell_type": "code",
      "source": [
        "trainY = traindata[\"label\"]\n",
        "traindata.drop([\"label\"],axis=1,inplace=True)\n",
        "train = traindata\n",
        "\n",
        "testY = testdata[\"label\"]\n",
        "testdata.drop([\"label\"],axis=1,inplace=True)\n",
        "test = testdata"
      ],
      "execution_count": 0,
      "outputs": []
    },
    {
      "metadata": {
        "id": "6kMnggfyaJWQ",
        "colab_type": "code",
        "colab": {}
      },
      "cell_type": "code",
      "source": [
        "#one hot encoding for train\n",
        "onehotencoding_train = []\n",
        "for i in trainY:\n",
        "  temp = [0]*10\n",
        "  temp[i] = 1\n",
        "  onehotencoding_train.append(temp)\n",
        "  \n",
        "#one hot encoding for test\n",
        "onehotencoding_test = []\n",
        "for i in trainY:\n",
        "  temp = [0]*10\n",
        "  temp[i] = 1\n",
        "  onehotencoding_test.append(temp)"
      ],
      "execution_count": 0,
      "outputs": []
    },
    {
      "metadata": {
        "id": "szrnSNHSqh-_",
        "colab_type": "code",
        "colab": {}
      },
      "cell_type": "code",
      "source": [
        "img_size_flat = train.columns\n",
        "img_size_flat = img_size_flat.size\n",
        "\n",
        "num_classes = 10"
      ],
      "execution_count": 0,
      "outputs": []
    },
    {
      "metadata": {
        "id": "kRzgJ-IMaPs3",
        "colab_type": "code",
        "outputId": "79751154-5c6f-4e92-cb19-af9c8dcaa214",
        "colab": {
          "base_uri": "https://localhost:8080/",
          "height": 89
        }
      },
      "cell_type": "code",
      "source": [
        "#design neural network \n",
        "X = tf.placeholder(tf.float32,[None,img_size_flat])\n",
        "\n",
        "Y_true = tf.placeholder(tf.float32,[None,num_classes])\n",
        "\n",
        "Y_true_cls = tf.placeholder(tf.int64,[None])\n",
        "\n",
        "weights = tf.Variable(tf.zeros([img_size_flat,num_classes]))\n",
        "\n",
        "baises = tf.Variable(tf.zeros([num_classes]))"
      ],
      "execution_count": 0,
      "outputs": [
        {
          "output_type": "stream",
          "text": [
            "WARNING:tensorflow:From /usr/local/lib/python3.6/dist-packages/tensorflow/python/framework/op_def_library.py:263: colocate_with (from tensorflow.python.framework.ops) is deprecated and will be removed in a future version.\n",
            "Instructions for updating:\n",
            "Colocations handled automatically by placer.\n"
          ],
          "name": "stdout"
        }
      ]
    },
    {
      "metadata": {
        "id": "BOrIP1_bahWI",
        "colab_type": "code",
        "colab": {}
      },
      "cell_type": "code",
      "source": [
        "logits = tf.matmul(X,weights) + baises\n",
        "\n",
        "y_pred = tf.nn.softmax(logits)\n",
        "\n",
        "y_pred_cls = tf.argmax(y_pred,axis=1)"
      ],
      "execution_count": 0,
      "outputs": []
    },
    {
      "metadata": {
        "id": "yTRldjGnbcBy",
        "colab_type": "code",
        "colab": {}
      },
      "cell_type": "code",
      "source": [
        "cross_entropy = tf.nn.softmax_cross_entropy_with_logits_v2(logits = logits,labels = Y_true)\n",
        "\n",
        "cost = tf.reduce_mean(cross_entropy)"
      ],
      "execution_count": 0,
      "outputs": []
    },
    {
      "metadata": {
        "id": "JhaiVusIfhDF",
        "colab_type": "code",
        "colab": {}
      },
      "cell_type": "code",
      "source": [
        "optimizer = tf.train.GradientDescentOptimizer(learning_rate=0.5).minimize(cost)\n",
        "\n",
        "correct_prediction = tf.equal(y_pred_cls, Y_true_cls)\n",
        "\n",
        "\n",
        "\n",
        "accuracy = tf.reduce_mean(tf.cast(correct_prediction, tf.float32))\n",
        "\n"
      ],
      "execution_count": 0,
      "outputs": []
    },
    {
      "metadata": {
        "id": "Ta7LHAqQpaSv",
        "colab_type": "code",
        "colab": {}
      },
      "cell_type": "code",
      "source": [
        "session = tf.Session()\n",
        "\n",
        "session.run(tf.global_variables_initializer())\n",
        "\n",
        "batch_size = 100\n",
        "\n",
        "def optimize(num_iteration):\n",
        "  for i in range(num_iteration):\n",
        "    feed_dict_train = {X: train,Y_true: onehotencoding_train}\n",
        "    session.run(optimizer, feed_dict=feed_dict_train)"
      ],
      "execution_count": 0,
      "outputs": []
    },
    {
      "metadata": {
        "id": "AaJ5XcoUxOHD",
        "colab_type": "code",
        "colab": {}
      },
      "cell_type": "code",
      "source": [
        "feed_dict_test = {X:test,\n",
        "                 Y_true:onehotencoding_test,\n",
        "                 Y_true_cls:testY}"
      ],
      "execution_count": 0,
      "outputs": []
    },
    {
      "metadata": {
        "id": "j3klCWMMxsEx",
        "colab_type": "code",
        "colab": {}
      },
      "cell_type": "code",
      "source": [
        "def printaccuracy():\n",
        "  acc = session.run(accuracy, feed_dict=feed_dict_test)\n",
        "  \n",
        "  print(\"accuracy of test data:{0:.1%}\".format(acc))"
      ],
      "execution_count": 0,
      "outputs": []
    },
    {
      "metadata": {
        "id": "vLIn4AHzyGWD",
        "colab_type": "code",
        "colab": {}
      },
      "cell_type": "code",
      "source": [
        "optimize(1)"
      ],
      "execution_count": 0,
      "outputs": []
    },
    {
      "metadata": {
        "id": "DiwbcdFroaJQ",
        "colab_type": "code",
        "outputId": "6bea6175-2f6a-4ff1-8eaf-1b78ef6432d6",
        "colab": {
          "base_uri": "https://localhost:8080/",
          "height": 34
        }
      },
      "cell_type": "code",
      "source": [
        "printaccuracy()"
      ],
      "execution_count": 0,
      "outputs": [
        {
          "output_type": "stream",
          "text": [
            "accuracy of test data:30.7%\n"
          ],
          "name": "stdout"
        }
      ]
    },
    {
      "metadata": {
        "id": "G5rAcqgsM_WK",
        "colab_type": "code",
        "outputId": "09cc1157-a5c6-49ac-8066-45b511a787f8",
        "colab": {
          "base_uri": "https://localhost:8080/",
          "height": 34
        }
      },
      "cell_type": "code",
      "source": [
        "optimize(10)\n",
        "printaccuracy()"
      ],
      "execution_count": 0,
      "outputs": [
        {
          "output_type": "stream",
          "text": [
            "accuracy of test data:39.1%\n"
          ],
          "name": "stdout"
        }
      ]
    },
    {
      "metadata": {
        "id": "oIXORihcs-JZ",
        "colab_type": "code",
        "outputId": "6522b356-7db6-47be-b2a5-5db3ec2d7b97",
        "colab": {
          "base_uri": "https://localhost:8080/",
          "height": 34
        }
      },
      "cell_type": "code",
      "source": [
        "optimize(100)\n",
        "printaccuracy()"
      ],
      "execution_count": 0,
      "outputs": [
        {
          "output_type": "stream",
          "text": [
            "accuracy of test data:73.2%\n"
          ],
          "name": "stdout"
        }
      ]
    },
    {
      "metadata": {
        "id": "5GIksqnBtBsw",
        "colab_type": "code",
        "outputId": "c54884bb-91c4-4071-a8ff-6e9cd68af0c1",
        "colab": {
          "base_uri": "https://localhost:8080/",
          "height": 34
        }
      },
      "cell_type": "code",
      "source": [
        "optimize(500)\n",
        "printaccuracy()"
      ],
      "execution_count": 0,
      "outputs": [
        {
          "output_type": "stream",
          "text": [
            "accuracy of test data:76.2%\n"
          ],
          "name": "stdout"
        }
      ]
    },
    {
      "metadata": {
        "id": "Q4JSIvtgtQ2Z",
        "colab_type": "code",
        "colab": {}
      },
      "cell_type": "code",
      "source": [
        ""
      ],
      "execution_count": 0,
      "outputs": []
    }
  ]
}